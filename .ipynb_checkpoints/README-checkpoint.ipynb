{
 "cells": [
  {
   "cell_type": "markdown",
   "metadata": {},
   "source": [
    "ⓒ JMC 2017\n",
    "\n",
    "**SOURCE**  \n",
    "\\- 텐서플로로 시작하는 딥러닝, 나카이 에츠지"
   ]
  },
  {
   "cell_type": "markdown",
   "metadata": {},
   "source": [
    "---"
   ]
  },
  {
   "cell_type": "markdown",
   "metadata": {},
   "source": [
    "# I. 반복숙달용 Summary Questions"
   ]
  },
  {
   "cell_type": "markdown",
   "metadata": {},
   "source": [
    "### Q1-1. 데이터를 모델링하는 3단계\n",
    "\n",
    "1. 주어진 데이터를 기반으로 미지의 데이터를 예측하는 '**모델 방정식**'을 생각한다.\n",
    "2. 모델 방정식에 포함된 파라미터의 좋고 나쁨을 판단하는 '**오차 함수**'를 준비한다.\n",
    "3. 오차 함수를 최소화하는 '**최적의 파라미터값**'을 결정한다.\n",
    "\n",
    "### Q1-2. 모델의 뜻\n",
    "\n",
    "+ 데이터를 설명하는 방정식\n",
    "\n",
    "### Q1-3. 머신러닝에서 컴퓨터가 하는 역할 (=텐서플로의 주요 업무)\n",
    "\n",
    "+ **파라미터 최적화** : 오차 함수를 최소화하는 계산을 정해진 알고리즘을 이용해 자동으로 계산하는 것이 머신러닝에서 컴퓨터가 하는 역할이며, 텐서플로의 주요 업무다."
   ]
  },
  {
   "cell_type": "markdown",
   "metadata": {},
   "source": [
    "### Q1-4. 분류 문제에서 모델링하는 3단계\n",
    "\n",
    "1. 두 class의 경계를 나타내는 '**직선 형태의 모델 방정식(linear classifier)**'을 생각한다.\n",
    "> **Note**: 단, linear classifier를 sigmoid 함수에 대입해서 두 '**class에 속할 확률값**'을 도출한다.\n",
    "2. linear classifier에 포함된 파라미터의 좋고 나쁨을 판단하는 '**오차 함수**'를 준비한다.\n",
    "3. 오차 함수를 최소화하는 '**최적의 파라미터값**'을 결정한다.\n",
    "\n",
    "> **Note:** `linear classifier`란 분류 문제에서 사용하는 직선 형태의 모델을 뜻한다. || linear classifier 방정식 : $f(x_1, x_2) = w_0 + w_1x_1 + w_2x_2 = 0$ || linear classifier로 계산된 score 값을 0부터 1까지의 값을 가지는 함수에 대입하면 `각 class에 속할 확률값`인 $P(x_1, x_2)$를 구할 수 있다."
   ]
  },
  {
   "cell_type": "markdown",
   "metadata": {},
   "source": [
    "### Q1-5. 신경망이 데이터 모델링 3단계에서 가지는 의미\n",
    "\n",
    "+ 데이터 모델링 1단계에서 데이터를 설명하는 모델은 사람이 생각해내야 한다.\n",
    "+ 데이터의 차원이 아주 높다면 사람의 뇌로는 상상조차 할 수 없다.\n",
    "+ 그런데 '**신경망**'은 '**하나의 단순한 수식이 아니라 여러 개의 수식을 조합한 함수**'를 사용해서 다양한 데이터에 대응할 수 있는 모델이라는 데에 의미가 있다."
   ]
  },
  {
   "cell_type": "markdown",
   "metadata": {},
   "source": [
    "### Q1-6. 파라미터를 최적화하는 방법\n",
    "\n",
    "먼저 오차 함수는 파라미터에 대한 함수라는 것을 알아야 한다.\n",
    "파라미터가 포함된 모델의 방정식이 오차 함수에 들어가 있다.\n",
    "즉, **파라미터 값이 변경되면 오차 함수의 값도 변화하므로, 오차 함수는 파라미터에 대한 함수라고 볼 수 있다**.\n",
    "\n",
    "$ \\ \\ \\ \\ \\ (1.1) \\ L = \\frac{1}{2}\\Sigma(y_i - t_i)^{2} $\n",
    "\n",
    "$ \\ \\ \\ \\ \\ (1.2) \\ y_i = w_0 + w_1x_1 + w_2x_2 + w_3x_3 + w_4x_4 = \\Sigma w_ix_i$\n",
    "\n",
    "$ \\ \\ \\ \\ \\ (1.3) \\ L(w_0, w_1, w_2, w_3, w_4) = \\frac{1}{2}\\Sigma(\\Sigma w_ix_i - t_i)^{2}$\n",
    "\n",
    "**오차 함수를 다변수 공간에 표현했을 때 함수값이 최소로 되는 최저점을 찾아야 한다**.\n",
    "이 최저점은 '**기울기 벡터가 0이 되는 곳**'을 뜻한다.\n",
    "기울기 벡터는 오차 함수를 각 parameter별로 편미분하면 구할 수 있다.\n",
    "따라서 오차 함수를 편미분해서 기울기 벡터를 구하고 기울기 벡터가 0이 되는 곳을 찾으면, 오차 함수의 최소값을 구할 수 있게 된다.\n",
    "\n",
    "**기울기 벡터의 크기가 0이 되는 곳까지 현재 위치의 기울기 벡터와 반대 방향으로 반복해서 내려간다**.\n",
    "\n",
    "$ \\ \\ \\ \\ \\ (1.8) \\ W^{new} = W - \\alpha \\triangledown L(W)$\n",
    "+ $W$ : $(w_0, w_1, w_2, w_3, w_4)$의 현재 위치(=좌표)\n",
    "+ $- \\triangledown L(W)$ : 현재 위치 $W$에서의 기울기 벡터와 반대방향으로 간다\n",
    "+ $- \\alpha \\triangledown L(W)$ : 한 번 반대 방향으로 갈 때 $\\alpha$만큼 이동한다\n",
    "+ $W^{new}$ : 현재 위치에서 현재 위치에서의 기울기 벡터만큼 반대 방향으로 이동한 곳이 새로운 위치이다 (= 파라미터 갱신)\n",
    "\n",
    "$ \\ \\ \\ \\ \\ (1.9) \\ \\triangledown L(W) = \\begin{pmatrix}\n",
    "\\frac{\\partial L}{\\partial w_0}(W) \\\\\n",
    "\\vdots \\\\\n",
    "\\frac{\\partial L}{\\partial w_4}(W)\n",
    "\\end{pmatrix}$\n",
    "\n",
    "이때 식 (1.8)에서 파라미터를 갱신할 때마다 그 점에서의 기울기 벡터 값을 식 (1.9)로 다시 계산한다는 점에 주의한다.\n",
    "이렇게 '**현재 파라미터의 값에 대해 기울기 벡터를 계산하고, 그 반대 방향으로 파라미터를 수정하는 알고리즘**'을 '**경사 하강법(gradient descent**)'이라고 한다.\n",
    "현실의 문제에서는 충분히 원점에 가까워졌을 때 계산을 중단하고, 그 시점의 값을 근사적인 최적해로 채택한다.\n",
    "파라미터를 갱신하는 계산은 당연히 컴퓨터를 이용해 자동화하며, 이 부분이 머신러닝이나 딥러닝에서 텐서플로의 역할에 해당한다.\n",
    "**training set의 양이 많은 경우 한 번에 모든 데이터를 이용해서 파라미터를 최적화하는 것이 아니라, 단계적으로 데이터를 투입해가면서 파라미터를 최적화해 가는 식의 테크닉도 필요하다**.\n",
    "\n",
    "그런데 **오차 함수의 그래프가 여러 곳에 local minima가 있다면** 기울기 벡터가 0이 되는 곳이 여러 군데 존재하게 된다.\n",
    "즉, 경사 하강법으로 global minimum에 도달하지 못할 수도 있다.\n",
    "이와 같은 문제에 대응하기 위해 **확률적 경사 하강법(SGD)이나 미니 배치(mini-batch) 같은 테크닉을 사용한다**.\n",
    "\n",
    "> **Note**: 2.3.4 미니배치와 확률적 경사 하강법"
   ]
  },
  {
   "cell_type": "markdown",
   "metadata": {},
   "source": [
    "---"
   ]
  },
  {
   "cell_type": "markdown",
   "metadata": {},
   "source": [
    "# II. Summary Questions에 아직 등록되지 않은 Note"
   ]
  },
  {
   "cell_type": "markdown",
   "metadata": {},
   "source": [
    "## 02 확률을 이용해서 모델을 만들면 생기는 이점\n",
    "\n",
    "+ 확률을 이용해서 모델을 만들면, 오차 함수로 자연스럽게 최우추정법(MLE)을 사용할 수 있다."
   ]
  },
  {
   "cell_type": "markdown",
   "metadata": {},
   "source": [
    "## 02 로지스틱 회귀를 이용한 이항 분류기\n",
    "\n",
    "### 데이터 모델링 1단계 : 모델 방정식 세우기 (1)\n",
    "\n",
    "두 가지 검사 $x_1, x_2$를 토대로 바이러스 감염, 비감염 판정을 내리는 training data가 있다.\n",
    "training data를 시각화하면 $x_1, x_2$축을 가진 그래프에서 감염(o), 비감염(x)을 나타내는 데이터 포인트가 찍힌다.\n",
    "우리의 목적은 데이터의 분류이므로 데이터 포인트 (o)와 (x)를 분리하는 직선을 그을 수 있다.\n",
    "두 데이터의 경계를 나타내는 이 직선을 linear classifier라고 한다.\n",
    "linear classifier는 분류 문제에서 데이터의 경계를 나눠서, 어떤 데이터가 어느 클래스에 속하는지 설명해주므로 '모델'이 된다.\n",
    "모델은 다음과 같이 수식으로 나타낼 수 있다.\n",
    "\n",
    "$ \\ \\ \\ \\ \\ (2.1) \\ f(x_1, x_2) = w_0 + w_1x_1 + w_2x_2$\n",
    "\n",
    "### 데이터 모델링 1단계 : 모델 방정식 세우기 (2)\n",
    "\n",
    "우리의 목표는 새로운 검사 결과 $(x_1, x_2)$가 나왔을 때 이 환자가 실제로 감염되었는지 판정하는 것이다.\n",
    "$x_1, x_2$축을 가진 그래프에 새로운 환자의 데이터가 찍혔다고 해보자.\n",
    "이를 단순하게 감염(o) 또는 비감염(x)으로 분류하는 것이 아니라 이 환자가 바이러스에 감염되었을 확률을 구하고자 한다.\n",
    "$f(x_1,x_2)$의 값은 $\\pm \\infty$를 향해 변화하므로 확률 값으로 적절하지 않다.\n",
    "$f(x_1,x_2)$의 범위를 확률의 범위 0~1 사이로 맞추기 위해 시그모이드 함수에 대입한다.\n",
    "\n",
    "$ \\ \\ \\ \\ \\ (2.2) \\ -\\infty < f(x_1,x_2) < +\\infty$\n",
    "\n",
    "$ \\ \\ \\ \\ \\ (2.3) \\ 0 < \\sigma (x) = \\frac{1}{1 + e^{-x}} < 1$\n",
    "\n",
    "$ \\ \\ \\ \\ \\ (2.4) \\ 0 < \\sigma (f(x_1, x_2)) < 1 $\n",
    "\n",
    "결국 우리의 모델은 다음과 같이 표현된다.\n",
    "\n",
    "$ \\ \\ \\ \\ \\ (2.5) \\ P(x_1, x_2) = \\sigma (f(x_1, x_2)) = \\frac{1}{1 + e^{-(w_0 + w_1x_1 + w_2x_2)}}$"
   ]
  },
  {
   "cell_type": "markdown",
   "metadata": {},
   "source": [
    "### 데이터 모델링 2단계 : 오차 함수 준비 (1)\n",
    "\n",
    "\"확률을 이용해서 예측 모델을 만들면, 파라미터의 좋고 나쁨을 평가하는 오차 함수로 자연스럽게 최우추정법(MLE)를 사용할 수 있다는 이점이 있다.\"\n",
    "식 (2.5)에서 만든 모델에 포함된 파라미터의 좋고 나쁨을 어떻게 판단할 수 있을까?\n",
    "주어진 training data를 잘 맞히는지 알아보면 된다.\n",
    "엄밀히 말하자면, 수많은 parameter 조합 중에서 training data를 예측할 확률이 가장 높은 parameter를 선택하면 된다.\n",
    "이와 같이 주어진 데이터를 바르게 예측할 확률을 최대화하는 것을 최우추정법(Maximum Likelihood Estimation)이라고 한다.\n",
    "\n",
    "> **Note**: 모델 방정식에 포함된 parameter가 가질 수 있는 값은 무한 개이다. 즉, 가능한 모델의 개수 또한 무한 개이다. 최우추정법에서는 모델 여러 개 중에서 주어진 데이터를 예측할 확률이 가장 높은 모델을 선택하는 알고리즘이다.\n",
    "\n",
    "트레이닝 데이터 N개를 표현하면 식 (2.6)과 같다.\n",
    "$n$번째 데이터 $(x_{1_{n}}, x_{2_{n}})$의 바이러스 감염 여부를 $t_n \\in \\{0, 1\\} $이라고 하자. $n$번째 데이터를 바르게 예측할 확률을 $P_n$이라고 할 때 식 (2.7)과 식 (2.8)이 성립한다.\n",
    "\n",
    "$ \\ \\ \\ \\ \\ (2.6) \\ (x_{1_{1}}, x_{2_{1}}), (x_{1_{2}}, x_{2_{2}}), \\cdot \\cdot \\cdot, (x_{1_{N}}, x_{2_{N}})$\n",
    "\n",
    "$ \\ \\ \\ \\ \\ (2.7) \\ [ \\begin{array}{ll} t_n=1 : P_n = P(x_{1_{n}}, x_{2_{n}}) \\\\\n",
    "t_n=0 : P_n = 1 - P(x_{1_{n}}, x_{2_{n}})\n",
    "\\end{array}$\n",
    "\n",
    "$ \\ \\ \\ \\ \\ (2.8) \\ P_n = \\{ P(x_{1_{n}}, x_{2_{n}}) \\}^{t_n} \\{ 1 - P(x_{1_{n}}, x_{2_{n}}) \\}^{1-t_n}$\n",
    "\n",
    "식 (2.8)의 이해를 돕기 위해 예를 들어보자. \n",
    "3번째 데이터 $(x_{1_{3}}, x_{2_{3}})$의 $t_3 = 1$이고, 모델의 예측값이 0.8이라고 해보자.\n",
    "$P_3 = P(x_{1_{3}}, x_{2_{3}}) = 0.8$이 된다.\n",
    "실제 데이터의 값 $t_n=1$일 때는 모델의 예측값이 1에 가까울수록 좋다.\n",
    "4번째 데이터 $(x_{1_{4}}, x_{2_{4}})$의 $t_n = 0$이고, 모델의 예측값이 0.3이라고 해보자.\n",
    "$P_4 = 1-P(x_{1_{4}}, x_{2_{4}}) = 1-0.3 = 0.7$이 된다.\n",
    "실제 데이터의 값 $t_n=0$일 때는 모델의 예측값이 0에 가까울수록 좋다.\n",
    "예를 통해서 두 가지를 알 수 있다. \n",
    "첫째, training data와 일치하는 모델일수록 $P_n$ 값이 1에 가까워지게 된다.\n",
    "둘째, $P_n$ 값의 범위는 $0 \\leq P_n \\leq 1$이 된다.\n",
    "\n",
    "$n$번째 데이터가 아니라 $N$개 데이터 모두 정답일 확률 $P$를 계산해보자.\n",
    "식 (2.9)에 나와 있듯이, 각 데이터를 바르게 예측할 확률의 곱셈으로 계산할 수 있다.\n",
    "식 (2.10)이 우리가 만든 모델 (2.5)의 우도 함수이자 오차 함수이다.\n",
    "\n",
    "$ \\ \\ \\ \\ \\ (2.9) \\ P = P_1 \\times P_2 \\times \\cdots \\times P_N = \\Pi_{n=1}^{N}P_n$\n",
    "\n",
    "$ \\ \\ \\ \\ \\ (2.10) \\ P = \\Pi_{n=1}^{N}\\{ P(x_{1_{n}}, x_{2_{n}}) \\}^{t_n} \\{ 1 - P(x_{1_{n}}, x_{2_{n}}) \\}^{1-t_n}$\n",
    "\n",
    "$P_n$ 값의 범위가 $0 \\leq P_n \\leq 1$이므로 $P$의 범위 또한 $0 \\leq P \\leq 1$이 된다.\n",
    "\n",
    "#### 데이터 모델링 2단계 : 오차 함수 준비 (2)\n",
    "\n",
    "텐서플로로 계산할 경우 식 (2.10)과 같이 곱셈을 대량으로 포함하는 수식은 계산 효율이 좋지 않다.\n",
    "곱셉식을 덧셈으로 대체하려면 오차 함수에 $\\log$를 취하면 된다.\n",
    "따라서 $P$ 대신 $\\log P$로 나타낼 수 있다.\n",
    "$\\log$를 취하면 값의 범위가 아래 식처럼 변한다.\n",
    "\n",
    "$ \\ \\ \\ \\ \\ (2.11) \\ 0 \\leq P \\leq 1$\n",
    "\n",
    "$ \\ \\ \\ \\ \\ (2.12) \\ -\\infty \\leq \\log P \\leq 0$ \n",
    "\n",
    "그런데 일반적으로 오차 함수가 내뱉는 값은 오차가 되어야 하고, 우리는 오차 함수의 값을 최소화하도록 판을 짜야 한다.\n",
    "그래서 $\\log P$에 마이너스를 취한다.\n",
    "\n",
    "$ \\ \\ \\ \\ \\ (2.13) \\ 0 \\leq -\\log P \\leq \\infty$\n",
    "\n",
    "$ \\ \\ \\ \\ \\ (2.14) \\ L = - \\log P$\n",
    "\n",
    "$ \\ \\ \\ \\ \\ (2.15) \\ L = - \\log \\Pi_{n=1}^{N}\\{ P(x_{1_{n}}, x_{2_{n}}) \\}^{t_n} \\{ 1 - P(x_{1_{n}}, x_{2_{n}}) \\}^{1-t_n}$\n",
    "\n",
    "$ \\ \\ \\ \\ \\ (2.16) \\ L = - \\Sigma_{n=1}^{N} [t_n \\log P(x_{1_{n}}, x_{2_{n}}) + (1 - t_n) \\log \\{ 1 - P(x_{1_{n}}, x_{2_{n}}) \\}]$\n",
    "\n",
    "이렇게 해서 오차 함수가 식 (2.16)으로 완성되었다.\n",
    "\n",
    "> **Note**: 로그함수는 단조 증가하는 함수이므로 $P$를 최대로 하는 것과 $-\\log P$를 최소로 하는 것은 동치가 된다. 오차 함수를 통해 우리가 알고자 하는 것은 \"parameter $w$의 값이 어떻게 달라져야 오차가 적어지는지\"이다. 이를 구하는 방법은 parameter $w$를 하나 하나 변경하면서 오차를 관찰하는 방법과 오차 함수가 최저값이 될 때 parameter $w$는 어떤 값을 가지는지 관찰하는 방법이 있다."
   ]
  },
  {
   "cell_type": "markdown",
   "metadata": {
    "collapsed": true
   },
   "source": [
    "## 02 텐서플로를 이용한 최우추정 실행"
   ]
  },
  {
   "cell_type": "markdown",
   "metadata": {},
   "source": [
    "**[MLE-01]** 모듈을 임포트한다."
   ]
  },
  {
   "cell_type": "code",
   "execution_count": 22,
   "metadata": {
    "collapsed": true
   },
   "outputs": [],
   "source": [
    "import tensorflow as tf\n",
    "import numpy as np\n",
    "import matplotlib.pyplot as plt\n",
    "%matplotlib inline\n",
    "from numpy.random import multivariate_normal, permutation\n",
    "import pandas as pd\n",
    "from pandas import DataFrame, Series"
   ]
  },
  {
   "cell_type": "markdown",
   "metadata": {},
   "source": [
    "**[MLE-02]** 트레이닝 세트 데이터를 준비한다."
   ]
  },
  {
   "cell_type": "code",
   "execution_count": 3,
   "metadata": {},
   "outputs": [],
   "source": [
    "np.random.seed(20160512)\n",
    "\n",
    "n0, mu0, variance0 = 20, [10, 11], 20\n",
    "data0 = multivariate_normal(mu0, np.eye(2)*variance0, n0)\n",
    "df0 = DataFrame(data0, columns=['x1', 'x2'])\n",
    "df0['t'] = 0\n",
    "\n",
    "n1, mu1, variance1 = 15, [18, 20], 22\n",
    "data1 = multivariate_normal(mu1, np.eye(2)*variance1, n1)\n",
    "df1 = DataFrame(data1, columns=['x1', 'x2'])\n",
    "df1['t'] = 1\n",
    "\n",
    "df = pd.concat([df0, df1], ignore_index=True)\n",
    "train_set = df.reindex(permutation(df.index)).reset_index(drop=True)"
   ]
  },
  {
   "cell_type": "markdown",
   "metadata": {},
   "source": [
    "+ 1 : 난수의 seed를 지정하는 것으로 여기서 지정한 값에 따라 이후에 생성될 난수의 패턴이 결정된다. \n",
    "    > **Note**: 시드를 명시적으로 지정하면 매번 동일한 데이터가 생성되므로 난수를 이용하더라도 동일한 데이터로 반복 테스트할 수 있게 된다.\n",
    "+ 3~6 : $t=0$(비감염)인 데이터를 난수로 생성\n",
    "+ 8~11 : $t=1$(감염)인 데이터를 난수로 생성\n",
    "+ 13~14 : 모든 데이터를 하나로 모은 후 행의 순번을 무작위로 변경"
   ]
  },
  {
   "cell_type": "markdown",
   "metadata": {},
   "source": [
    "**[MLE-04]** (x1, x2)와 t를 각각 모은 것을 NumPy의 array 오브젝트로 추출해둔다."
   ]
  },
  {
   "cell_type": "code",
   "execution_count": 16,
   "metadata": {
    "collapsed": true
   },
   "outputs": [],
   "source": [
    "train_x = train_set[['x1','x2']].as_matrix()\n",
    "train_t = train_set['t'].as_matrix().reshape([len(train_set),1])"
   ]
  },
  {
   "cell_type": "markdown",
   "metadata": {},
   "source": [
    "+ 텐서플로로 계산할 때는 각 종데이터를 다차원 배열, 즉 행렬 형태로 표현할 필요가 있다."
   ]
  },
  {
   "cell_type": "markdown",
   "metadata": {},
   "source": [
    "**[MLE-05]** 트레이닝 세트 데이터에 대해 t=1(감염)일 확률을 구하는 계산식 p를 준비한다."
   ]
  },
  {
   "cell_type": "code",
   "execution_count": 11,
   "metadata": {
    "collapsed": true
   },
   "outputs": [],
   "source": [
    "x = tf.placeholder(tf.float32, [None, 2])\n",
    "w = tf.Variable(tf.zeros([2,1]))\n",
    "w0 = tf.Variable(tf.zeros([1]))\n",
    "f = tf.matmul(x, w) + w0\n",
    "p = tf.sigmoid(f)"
   ]
  },
  {
   "cell_type": "markdown",
   "metadata": {},
   "source": [
    "+ 1 : x는 35 by 2 행렬이지만, Placeholder에는 임의의 개수의 데이터가 들어갈 수 있도록 [None, 2]라는 크기를 지정한다.\n",
    "+ 4 : `tf.matmul(x, w)`는 다차원 배열이고, `w0`은 1차원 리스트이지만, 다차원 리스트에 하나의 요소로 된 값을 더한 경우 리스트의 각 요소에 동일한 값이 더해진다. 이를 브로드캐스팅 규칙이라고 한다."
   ]
  },
  {
   "cell_type": "markdown",
   "metadata": {},
   "source": [
    "**[MLE-06]** 오차 함수 loss와 트레이닝 알고리즘 train_step을 정의한다."
   ]
  },
  {
   "cell_type": "code",
   "execution_count": 12,
   "metadata": {
    "collapsed": true
   },
   "outputs": [],
   "source": [
    "t = tf.placeholder(tf.float32, [None, 1])\n",
    "loss = -tf.reduce_sum(t*tf.log(p) + (1-t)*tf.log(1-p))\n",
    "train_step = tf.train.AdamOptimizer().minimize(loss)"
   ]
  },
  {
   "cell_type": "markdown",
   "metadata": {},
   "source": [
    "+ 2 : $log$를 취한 loss 함수를 나타낸 식이다. `tf.reduce_sum`은 함수식에서 $\\Sigma_{n=1}^{N}$에 해당한다.\n",
    "    + loss 함수식 : $ \\ \\ \\ \\ \\ (2.16) \\ L = - \\Sigma_{n=1}^{N} [t_n \\log P(x_{1_{n}}, x_{2_{n}}) + (1 - t_n) \\log \\{ 1 - P(x_{1_{n}}, x_{2_{n}}) \\}]$\n",
    "    + `tf.reduce_sum`은 행렬 혹은 다차원 리스트의 모든 요소를 합산하는 역할을 한다."
   ]
  },
  {
   "cell_type": "markdown",
   "metadata": {},
   "source": [
    "**[MLE-07]** 정답률 accuracy를 정의한다."
   ]
  },
  {
   "cell_type": "code",
   "execution_count": 13,
   "metadata": {
    "collapsed": true
   },
   "outputs": [],
   "source": [
    "correct_prediction = tf.equal(tf.sign(p-0.5), tf.sign(t-0.5))\n",
    "accuracy = tf.reduce_mean(tf.cast(correct_prediction, tf.float32))"
   ]
  },
  {
   "cell_type": "markdown",
   "metadata": {},
   "source": [
    "+ 1 : $P_n \\geq 0.5$이면 $t=1$, 그렇지 않으면 $t=0$이라고 단순하게 예측하는 방식을 이용해서 정답률을 구한다. $P_n - 0.5$와 $t_n - 0.5$의 부호를 비교하면 된다.\n",
    "+ 2 : 1행에서 Bool 값으로 변환된 1과 0으로 이루어진 `correct_prediction` 벡터를 float32 타입으로 바꾸고 평균값을 계산한다.\n",
    "    + `tf.reduce_mean`은 다차원 리스트의 각 성분의 평균값을 계산하는 함수이다."
   ]
  },
  {
   "cell_type": "markdown",
   "metadata": {},
   "source": [
    "**[MLE-08]** 세션을 준비하고 Variable을 초기화한다."
   ]
  },
  {
   "cell_type": "code",
   "execution_count": 14,
   "metadata": {
    "collapsed": true
   },
   "outputs": [],
   "source": [
    "sess = tf.Session()\n",
    "sess.run(tf.global_variables_initializer())"
   ]
  },
  {
   "cell_type": "markdown",
   "metadata": {},
   "source": [
    "+ 파라미터를 최적화하기 위해 세션을 준비하고 Variable 값을 초기화한다."
   ]
  },
  {
   "cell_type": "markdown",
   "metadata": {},
   "source": [
    "**[MLE-09]** 경사 하강법에 의한 파라미터 최적화를 20000회 반복한다."
   ]
  },
  {
   "cell_type": "code",
   "execution_count": 18,
   "metadata": {},
   "outputs": [
    {
     "name": "stdout",
     "output_type": "stream",
     "text": [
      "Step: 2000, Loss: 10.772636, Accuracy: 0.914286\n",
      "Step: 4000, Loss: 8.197757, Accuracy: 0.971429\n",
      "Step: 6000, Loss: 6.576120, Accuracy: 0.971429\n",
      "Step: 8000, Loss: 5.511970, Accuracy: 0.942857\n",
      "Step: 10000, Loss: 4.798052, Accuracy: 0.942857\n",
      "Step: 12000, Loss: 4.314208, Accuracy: 0.942857\n",
      "Step: 14000, Loss: 3.986283, Accuracy: 0.942857\n",
      "Step: 16000, Loss: 3.766516, Accuracy: 0.942857\n",
      "Step: 18000, Loss: 3.623070, Accuracy: 0.942857\n",
      "Step: 20000, Loss: 3.534100, Accuracy: 0.942857\n"
     ]
    }
   ],
   "source": [
    "i = 0\n",
    "for _ in range(20000):\n",
    "    i += 1\n",
    "    sess.run(train_step, feed_dict={x: train_x, t: train_t})\n",
    "    if i % 2000 == 0:\n",
    "        loss_val, acc_val = sess.run(\n",
    "        [loss, accuracy], feed_dict={x: train_x, t: train_t})\n",
    "        print ('Step: %d, Loss: %f, Accuracy: %f'\n",
    "              % (i, loss_val, acc_val))"
   ]
  },
  {
   "cell_type": "markdown",
   "metadata": {},
   "source": [
    "+ 6~7 : 해당 시점에서의 Variable의 값을 이용해 loss와 accuracy의 값을 계산해서 각각 loss_val과 acc_val에 저장한다.\n",
    "    + 세션 내에서 계산값을 평가할 때는 이 예에 있는 [loss, accuracy]와 같이 리스트 형식으로 복수의 변수를 지정함으로써 여러 값을 동시에 얻을 수 있다.\n",
    "    + sess.run의 fetch argument에는 계산하고 싶은 값을 넣는다.\n",
    "+ 실행 결과 : 애초에 이 트레이닝 세트 데이터를 직선으로 완전하게 분류할 수는 없으므로 정답률(Accuracy)이 100%가 되는 일은 원칙적으로 불가능하다."
   ]
  },
  {
   "cell_type": "markdown",
   "metadata": {},
   "source": [
    "**[MLE-10]** 이 시점의 파라미터 값을 추출한다."
   ]
  },
  {
   "cell_type": "code",
   "execution_count": 20,
   "metadata": {},
   "outputs": [
    {
     "name": "stdout",
     "output_type": "stream",
     "text": [
      "-17.1252 0.615048 0.538803\n"
     ]
    }
   ],
   "source": [
    "w0_val, w_val = sess.run([w0, w])\n",
    "w0_val, w1_val, w2_val = w0_val[0], w_val[0][0], w_val[1][0]\n",
    "print w0_val, w1_val, w2_val"
   ]
  },
  {
   "cell_type": "markdown",
   "metadata": {},
   "source": [
    "**[MLE-11]** 추출한 파라미터 값을 이용해 결과를 그래프로 출력한다."
   ]
  },
  {
   "cell_type": "code",
   "execution_count": 23,
   "metadata": {},
   "outputs": [
    {
     "data": {
      "text/plain": [
       "<matplotlib.image.AxesImage at 0x7ff8ec66dcd0>"
      ]
     },
     "execution_count": 23,
     "metadata": {},
     "output_type": "execute_result"
    },
    {
     "data": {
      "image/png": "[encoded data removed]",
      "text/plain": [
       "<matplotlib.figure.Figure at 0x7ff8ec6fe550>"
      ]
     },
     "metadata": {},
     "output_type": "display_data"
    }
   ],
   "source": [
    "train_set0 = train_set[train_set['t']==0]\n",
    "train_set1 = train_set[train_set['t']==1]\n",
    "\n",
    "fig = plt.figure(figsize=(6,6))\n",
    "subplot = fig.add_subplot(1,1,1)\n",
    "subplot.set_ylim([0, 30])\n",
    "subplot.set_xlim([0, 30])\n",
    "subplot.scatter(train_set1.x1, train_set1.x2, marker='x')\n",
    "subplot.scatter(train_set0.x1, train_set0.x2, marker='o')\n",
    "\n",
    "linex = np.linspace(0,30,10)\n",
    "liney = - (w1_val*linex/w2_val + w0_val/w2_val)\n",
    "subplot.plot(linex, liney)\n",
    "\n",
    "field = [[(1 / (1 + np.exp(-(w0_val + w1_val*x1 + w2_val*x2))))\n",
    "         for x1 in np.linspace(0,30,100)]\n",
    "        for x2 in np.linspace(0,30,100)]\n",
    "subplot.imshow(field, origin='lower', extent=(0,30,0,30),\n",
    "              cmap=plt.cm.gray_r, alpha=0.5)"
   ]
  },
  {
   "cell_type": "markdown",
   "metadata": {},
   "source": [
    "+ 1~2 : 트레이닝 세트 데이터 중에서 $t=0$와 $t=1$인 데이터를 개별로 추출한다.\n",
    "+ 4~9 : 서로 다른 기호(x, o)를 이용해서 산포도를 그린다.\n",
    "+ 11~13 : 앞서 구한 파라미터값을 이용해서 직선 $f(x_1, x_2)$을 그린다.\n",
    "+ 15~19 : 확률 $P(x_1,x_2)$의 변화를 색의 농담으로 표히나다.\n",
    "    + $(x_1,x_2)$ 평면을 100 by 100의 셀로 분할하고, 각각의 셀에 대해 $P(x_1,x_2)$의 값을 2차원 리스트인 field에 저장한 후 이를 색의 농담으로 나타낸다."
   ]
  },
  {
   "cell_type": "markdown",
   "metadata": {},
   "source": [
    "## 02 테스트 세트를 이용한 검증"
   ]
  },
  {
   "cell_type": "markdown",
   "metadata": {},
   "source": [
    "**[CAF-01]** 모듈을 임포트하고 난수의 시드를 설정한다."
   ]
  },
  {
   "cell_type": "code",
   "execution_count": 28,
   "metadata": {
    "collapsed": true
   },
   "outputs": [],
   "source": [
    "np.random.seed(20160531)"
   ]
  },
  {
   "cell_type": "markdown",
   "metadata": {},
   "source": [
    "**[CAF-02]** 트레이닝 세트 데이터를 준비하고 20%의 데이터를 테스트 세트로 분리한다."
   ]
  },
  {
   "cell_type": "code",
   "execution_count": 29,
   "metadata": {},
   "outputs": [],
   "source": [
    "n0, mu0, variance0 = 800, [10, 11], 20\n",
    "data0 = multivariate_normal(mu0, np.eye(2)*variance0, n0)\n",
    "df0 = DataFrame(data0, columns=['x','y'])\n",
    "df0['t'] = 0\n",
    "\n",
    "n1, mu1, variance1 = 600, [18, 20], 22\n",
    "data1 = multivariate_normal(mu1, np.eye(2)*variance1, n1)\n",
    "df1 = DataFrame(data1, columns=['x','y'])\n",
    "df1['t'] = 1\n",
    "\n",
    "df = pd.concat([df0,df1], ignore_index=True)\n",
    "df = df.reindex(permutation(df.index)).reset_index(drop=True)\n",
    "\n",
    "num_data = int(len(df)*0.8)\n",
    "train_set = df[:num_data]\n",
    "test_set = df[num_data:]"
   ]
  },
  {
   "cell_type": "markdown",
   "metadata": {},
   "source": [
    "+ 난수로 데이터를 생성한 후 80%는 training set, 20%는 test set으로 나눈다.\n",
    "+ test set의 양이 너무 적지 않도로 전체적으로 이전보다 40배의 데이터를 생성한다."
   ]
  },
  {
   "cell_type": "markdown",
   "metadata": {},
   "source": [
    "코드 중간 생략"
   ]
  },
  {
   "cell_type": "markdown",
   "metadata": {},
   "source": [
    "## 02 소프트맥스 함수와 다항 분류기"
   ]
  },
  {
   "cell_type": "code",
   "execution_count": null,
   "metadata": {
    "collapsed": true
   },
   "outputs": [],
   "source": []
  }
 ],
 "metadata": {
  "kernelspec": {
   "display_name": "Python 2",
   "language": "python",
   "name": "python2"
  },
  "language_info": {
   "codemirror_mode": {
    "name": "ipython",
    "version": 2
   },
   "file_extension": ".py",
   "mimetype": "text/x-python",
   "name": "python",
   "nbconvert_exporter": "python",
   "pygments_lexer": "ipython2",
   "version": "2.7.13"
  }
 },
 "nbformat": 4,
 "nbformat_minor": 2
}
